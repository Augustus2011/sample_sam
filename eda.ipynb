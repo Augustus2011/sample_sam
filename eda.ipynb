{
 "cells": [
  {
   "cell_type": "code",
   "execution_count": 4,
   "metadata": {},
   "outputs": [],
   "source": [
    "import matplotlib.pyplot as plt\n",
    "import seaborn as sns\n",
    "\n",
    "import pandas as pd\n",
    "import os\n",
    "import glob"
   ]
  },
  {
   "cell_type": "code",
   "execution_count": 13,
   "metadata": {},
   "outputs": [
    {
     "name": "stdout",
     "output_type": "stream",
     "text": [
      "/Users/kunkerdthaisong/intern_cariva/sample_kaggle/ct/\n"
     ]
    }
   ],
   "source": [
    "BASEDIR=os.getcwd() #/Users/kunkerdthaisong/intern_cariva/sample_sam\n",
    "DATADIR=BASEDIR.split(\"/sample_sam\")[0]+\"/sample_kaggle/ct/\"  #/Users/kunkerdthaisong/intern_cariva/sample_kaggle/ct/\n",
    "\n",
    "\n",
    "\n",
    "print(DATADIR)\n",
    "#pd.read_csv()"
   ]
  },
  {
   "cell_type": "code",
   "execution_count": null,
   "metadata": {},
   "outputs": [],
   "source": []
  }
 ],
 "metadata": {
  "kernelspec": {
   "display_name": "base",
   "language": "python",
   "name": "python3"
  },
  "language_info": {
   "codemirror_mode": {
    "name": "ipython",
    "version": 3
   },
   "file_extension": ".py",
   "mimetype": "text/x-python",
   "name": "python",
   "nbconvert_exporter": "python",
   "pygments_lexer": "ipython3",
   "version": "3.11.1"
  }
 },
 "nbformat": 4,
 "nbformat_minor": 2
}
