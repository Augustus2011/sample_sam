{
 "cells": [
  {
   "cell_type": "code",
   "execution_count": 36,
   "metadata": {},
   "outputs": [],
   "source": [
    "#plot image\n",
    "import matplotlib.pyplot as plt\n",
    "import seaborn as sns\n",
    "\n",
    "\n",
    "#image\n",
    "import PIL\n",
    "from PIL import Image\n",
    "\n",
    "\n",
    "# datafreame\n",
    "import pandas as pd\n",
    "\n",
    "#path manager\n",
    "import os\n",
    "import glob\n",
    "\n",
    "#etc\n",
    "\n",
    "import typing\n",
    "from typing import List,Tuple"
   ]
  },
  {
   "cell_type": "code",
   "execution_count": 41,
   "metadata": {},
   "outputs": [],
   "source": [
    "BASEDIR=os.getcwd() #/Users/kunkerdthaisong/intern_cariva/sample_sam\n",
    "DATADIR=BASEDIR.split('/sample_sam')[0]+'/sample_kaggle/ct/'  #/Users/kunkerdthaisong/intern_cariva/sample_kaggle/ct/\n",
    "img_paths=sorted(glob.glob(DATADIR+'/*/*/*.png')) #list string\n",
    "df=pd.read_csv(DATADIR+'labels.csv')\n",
    "\n",
    "#map img_paths\n",
    "df[\"img_path\"]=img_paths\n",
    "\n",
    "\n",
    "#store size\n",
    "\n",
    "def sizes(img_paths:List[str])->List[Tuple[int,int]]:\n",
    "    img_paths\n",
    "    return (3,4)"
   ]
  },
  {
   "cell_type": "code",
   "execution_count": 42,
   "metadata": {},
   "outputs": [
    {
     "data": {
      "text/plain": [
       "(3, 4)"
      ]
     },
     "execution_count": 42,
     "metadata": {},
     "output_type": "execute_result"
    }
   ],
   "source": []
  },
  {
   "cell_type": "markdown",
   "metadata": {},
   "source": [
    "#store size"
   ]
  },
  {
   "cell_type": "code",
   "execution_count": 34,
   "metadata": {},
   "outputs": [
    {
     "data": {
      "text/plain": [
       "957"
      ]
     },
     "execution_count": 34,
     "metadata": {},
     "output_type": "execute_result"
    }
   ],
   "source": []
  },
  {
   "cell_type": "code",
   "execution_count": null,
   "metadata": {},
   "outputs": [],
   "source": []
  }
 ],
 "metadata": {
  "kernelspec": {
   "display_name": "base",
   "language": "python",
   "name": "python3"
  },
  "language_info": {
   "codemirror_mode": {
    "name": "ipython",
    "version": 3
   },
   "file_extension": ".py",
   "mimetype": "text/x-python",
   "name": "python",
   "nbconvert_exporter": "python",
   "pygments_lexer": "ipython3",
   "version": "3.11.1"
  }
 },
 "nbformat": 4,
 "nbformat_minor": 2
}
